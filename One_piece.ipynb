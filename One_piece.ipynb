{
  "nbformat": 4,
  "nbformat_minor": 0,
  "metadata": {
    "colab": {
      "provenance": [],
      "authorship_tag": "ABX9TyNp4PSpbdfrUX0sFcakimLL",
      "include_colab_link": true
    },
    "kernelspec": {
      "name": "python3",
      "display_name": "Python 3"
    },
    "language_info": {
      "name": "python"
    }
  },
  "cells": [
    {
      "cell_type": "markdown",
      "metadata": {
        "id": "view-in-github",
        "colab_type": "text"
      },
      "source": [
        "<a href=\"https://colab.research.google.com/github/4k4m/Group_12_CS112/blob/main/Week_7/One_piece.ipynb\" target=\"_parent\"><img src=\"https://colab.research.google.com/assets/colab-badge.svg\" alt=\"Open In Colab\"/></a>"
      ]
    },
    {
      "cell_type": "code",
      "source": [
        "def binary_search(left, right, func):\n",
        "  if left == right - 1:\n",
        "    if func(right):\n",
        "      return right\n",
        "    else:\n",
        "      return left\n",
        "  mid = (left + right) // 2\n",
        "  if func(mid):\n",
        "    return(binary_search(mid, right, func))\n",
        "  else:\n",
        "    return(binary_search(left, mid, func))"
      ],
      "metadata": {
        "id": "7xlVwhMWVFXW"
      },
      "execution_count": null,
      "outputs": []
    },
    {
      "cell_type": "code",
      "source": [
        "class Problem:\n",
        "  def __init__(self):\n",
        "    self.n, self.k = input().split()\n",
        "    self.n, self.k = int(self.n), int(self.k)\n",
        "    self.arr_v = []\n",
        "    self.arr_m = []\n",
        "    for i in range(self.n):\n",
        "      mi, vi = input().split()\n",
        "      vi, mi = int(vi), int(mi)\n",
        "      self.arr_v.append(vi)\n",
        "      self.arr_m.append(mi)\n",
        "\n",
        "  def is_reachable(self, value):\n",
        "    differences = []\n",
        "    for vi, mi in zip(self.arr_v, self.arr_m):\n",
        "      differences.append(vi - value * mi)\n",
        "    differences.sort(reverse = True)\n",
        "    return (sum(differences[:self.k]) >= 0)"
      ],
      "metadata": {
        "id": "G5EcyqUdwbae"
      },
      "execution_count": null,
      "outputs": []
    },
    {
      "cell_type": "code",
      "source": [
        "problem = Problem()"
      ],
      "metadata": {
        "colab": {
          "base_uri": "https://localhost:8080/"
        },
        "id": "jztn7EkrzdEV",
        "outputId": "702cad3d-2ec2-49d2-a30e-2e1efdd00669"
      },
      "execution_count": null,
      "outputs": [
        {
          "name": "stdout",
          "output_type": "stream",
          "text": [
            "5 2\n",
            "1 2\n",
            "2 3\n",
            "4 5\n",
            "2 3\n",
            "1 3\n"
          ]
        }
      ]
    },
    {
      "cell_type": "code",
      "source": [
        "print(binary_search(0, 100000, problem.is_reachable))"
      ],
      "metadata": {
        "colab": {
          "base_uri": "https://localhost:8080/"
        },
        "id": "rLXLYeO4u3cZ",
        "outputId": "321ff658-5278-4187-d3f0-37bba9210ab1"
      },
      "execution_count": null,
      "outputs": [
        {
          "output_type": "stream",
          "name": "stdout",
          "text": [
            "2\n"
          ]
        }
      ]
    }
  ]
}