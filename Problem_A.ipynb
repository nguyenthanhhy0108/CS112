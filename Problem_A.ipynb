{
  "nbformat": 4,
  "nbformat_minor": 0,
  "metadata": {
    "colab": {
      "provenance": []
    },
    "kernelspec": {
      "name": "python3",
      "display_name": "Python 3"
    },
    "language_info": {
      "name": "python"
    }
  },
  "cells": [
    {
      "cell_type": "markdown",
      "source": [
        "**Bounding Function** = len(result_money) + min($ \\frac{money\\_left}{a[index][0]} $, a[index][1])"
      ],
      "metadata": {
        "id": "lPSco_q0yMSK"
      }
    },
    {
      "cell_type": "code",
      "execution_count": null,
      "metadata": {
        "id": "RWyVWjXEyJ5v"
      },
      "outputs": [],
      "source": [
        "# Initialize a global variable to store the final result\n",
        "final_money = []\n",
        "\n",
        "def backtracking(a, index, money_left, result_money):\n",
        "    \"\"\"\n",
        "    Backtracking function to find the combination of bills\n",
        "    that maximizes the number of bills when paying a certain amount.\n",
        "\n",
        "    Parameters:\n",
        "    - a: Array representing the value of each bill and the number of bills available.\n",
        "    - index: Current index being considered.\n",
        "    - money_left: Remaining amount of money to be paid.\n",
        "    - result_money: List storing the current combination of bills being considered.\n",
        "    \"\"\"\n",
        "    global final_money\n",
        "\n",
        "    # Base case: Check if the end of the array is reached or no money is left to pay\n",
        "    if index >= len(a) or money_left == 0:\n",
        "        # Check if a valid combination is found\n",
        "        if money_left == 0:\n",
        "            # Check if the current combination is better than the previous one\n",
        "            if len(result_money) > len(final_money) or (len(result_money) == len(final_money) and result_money < final_money):\n",
        "                final_money = result_money.copy()\n",
        "    else:\n",
        "        # Eliminate the branch if the lower-bound is less than the current best solution\n",
        "        if len(result_money) + min(money_left // a[index][0], a[index][1]) <= len(final_money):\n",
        "            return\n",
        "        # Case 1: Pick the current money\n",
        "        if a[index][1] != 0 and money_left - a[index][0] >= 0:\n",
        "            result_money.append(a[index][0])\n",
        "            a[index][1] -= 1\n",
        "            # Recursively explore the possibilities after picking the current money\n",
        "            backtracking(a, index, money_left - a[index][0], result_money)\n",
        "            # Backtrack: Restore the state before making the choice\n",
        "            a[index][1] += 1\n",
        "            result_money.pop()\n",
        "\n",
        "        # Case 2: Do not pick the current money and move to the next index\n",
        "        if index + 1 < len(a):\n",
        "            backtracking(a, index + 1, money_left, result_money)\n",
        "    #print(result_money, money_left, sep=\" \")\n",
        "\n",
        "# Input: Number of bill types (n) and the amount of money to pay (m)\n",
        "n, m = map(int, input().split())\n",
        "\n",
        "# Input: List of bill values and the number of bills available for each type\n",
        "a = []\n",
        "for i in range(n):\n",
        "    x, y = map(int, input().split())\n",
        "    a.append([x, y])\n",
        "\n",
        "# Sort the array based on the value of the bills\n",
        "a = sorted(a, key=lambda x: x[0])\n",
        "\n",
        "# Call the backtracking function with the initial values\n",
        "backtracking(a, 0, m, [])\n",
        "\n",
        "# Output: Print the length of the final combination and the combination itself\n",
        "print(len(final_money), ' '.join(map(str, final_money)), sep='\\n')\n"
      ]
    }
  ]
}