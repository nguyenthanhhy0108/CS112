{
 "cells": [
  {
   "cell_type": "code",
   "execution_count": null,
   "metadata": {},
   "outputs": [],
   "source": [
    "n = int(input())\n",
    "arr = []\n",
    "for _ in range(n):\n",
    "    a, b = map(int, input().split())\n",
    "    arr.append([a, b])\n",
    "\n",
    "arr = sorted(arr, key=lambda x:(x[0], x[1]))\n",
    "\n",
    "t, sum = 0, 0\n",
    "for i in range(n):\n",
    "    sum += arr[i][1] - (t + arr[i][0])\n",
    "    t = t + arr[i][0]\n",
    "\n",
    "print(sum)\n"
   ]
  }
 ],
 "metadata": {
  "language_info": {
   "name": "python"
  }
 },
 "nbformat": 4,
 "nbformat_minor": 2
}
