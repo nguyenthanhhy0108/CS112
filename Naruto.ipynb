{
 "cells": [
  {
   "cell_type": "code",
   "execution_count": null,
   "metadata": {},
   "outputs": [],
   "source": [
    "a,b,N,X = map(int, input().split())\n",
    "if a < b:\n",
    "    a,b = b,a\n",
    "if a < 0:\n",
    "    print(0)\n",
    "else:\n",
    "    if a + b <= 0:\n",
    "        print(a*X)\n",
    "    elif a + b > 0:\n",
    "        if a*b > 0: print(a*N + b*N)\n",
    "        else: print(b*(N - X) + a*N)"
   ]
  }
 ],
 "metadata": {
  "language_info": {
   "name": "python"
  }
 },
 "nbformat": 4,
 "nbformat_minor": 2
}
