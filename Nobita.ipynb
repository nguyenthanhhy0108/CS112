{
  "nbformat": 4,
  "nbformat_minor": 0,
  "metadata": {
    "colab": {
      "provenance": [],
      "authorship_tag": "ABX9TyP5UlUxcxd6q/xIlxdoyvFT",
      "include_colab_link": true
    },
    "kernelspec": {
      "name": "python3",
      "display_name": "Python 3"
    },
    "language_info": {
      "name": "python"
    }
  },
  "cells": [
    {
      "cell_type": "markdown",
      "metadata": {
        "id": "view-in-github",
        "colab_type": "text"
      },
      "source": [
        "<a href=\"https://colab.research.google.com/github/4k4m/Group_12_CS112/blob/main/Week_7/Nobita.ipynb\" target=\"_parent\"><img src=\"https://colab.research.google.com/assets/colab-badge.svg\" alt=\"Open In Colab\"/></a>"
      ]
    },
    {
      "cell_type": "code",
      "source": [
        "class Problem:\n",
        "  def __init__(self):\n",
        "    self.n = int(input())\n",
        "    self.schedule = []\n",
        "    for i in range(self.n):\n",
        "      ai, bi = input().split()\n",
        "      ai, bi = int(ai), int(bi)\n",
        "      self.schedule.append([ai, bi])\n",
        "\n",
        "  def solve(self):\n",
        "    self.schedule.sort(key = lambda x: x[1])\n",
        "    count = 0\n",
        "    min_next_a = 0\n",
        "    for ai, bi in self.schedule:\n",
        "      if ai >= min_next_a:\n",
        "        count += 1\n",
        "        min_next_a = bi\n",
        "    return count"
      ],
      "metadata": {
        "id": "G5EcyqUdwbae"
      },
      "execution_count": 104,
      "outputs": []
    },
    {
      "cell_type": "code",
      "source": [
        "problem = Problem()"
      ],
      "metadata": {
        "colab": {
          "base_uri": "https://localhost:8080/"
        },
        "id": "jztn7EkrzdEV",
        "outputId": "a394cce3-722f-450d-9319-9f0fe62ddb18"
      },
      "execution_count": 105,
      "outputs": [
        {
          "name": "stdout",
          "output_type": "stream",
          "text": [
            "5\n",
            "1 2\n",
            "2 3\n",
            "2 4\n",
            "1 3\n",
            "4 6\n"
          ]
        }
      ]
    },
    {
      "cell_type": "code",
      "source": [
        "print(problem.solve())"
      ],
      "metadata": {
        "colab": {
          "base_uri": "https://localhost:8080/"
        },
        "id": "rLXLYeO4u3cZ",
        "outputId": "f34fce09-85fd-47b7-ba44-9cca12f12c3c"
      },
      "execution_count": 106,
      "outputs": [
        {
          "output_type": "stream",
          "name": "stdout",
          "text": [
            "3\n"
          ]
        }
      ]
    }
  ]
}