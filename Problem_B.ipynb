{
  "cells": [
    {
      "cell_type": "markdown",
      "metadata": {
        "id": "view-in-github",
        "colab_type": "text"
      },
      "source": [
        "<a href=\"https://colab.research.google.com/github/4k4m/Group_12_CS112/blob/main/Week_6/Problem_B.ipynb\" target=\"_parent\"><img src=\"https://colab.research.google.com/assets/colab-badge.svg\" alt=\"Open In Colab\"/></a>"
      ]
    },
    {
      "cell_type": "markdown",
      "id": "e5774a9c",
      "metadata": {
        "id": "e5774a9c"
      },
      "source": [
        "This is a TSP (with some small differences :D).\n",
        "\n",
        "Since the problem requires us to find the minimum Hamilton path starting from vertex 1, we can use branch and bound method with lower bound function: $lower\\_bound = current\\_sum + min\\_edges\\_sum$, where $current\\_sum$ is the total weight of the visited edge in the candidate path and $min\\_edges\\_sum$ is the total weight of the shortest edges adjacent to each remaining vertices."
      ]
    },
    {
      "cell_type": "code",
      "execution_count": 1,
      "id": "fa775b87",
      "metadata": {
        "colab": {
          "base_uri": "https://localhost:8080/"
        },
        "id": "fa775b87",
        "outputId": "d01b5da1-25ad-4ad9-bc80-f81fddf7484e"
      },
      "outputs": [
        {
          "name": "stdout",
          "output_type": "stream",
          "text": [
            "4 5\n",
            "1 2 30\n",
            "1 3 60\n",
            "1 4 50\n",
            "2 4 20\n",
            "3 4 40\n"
          ]
        }
      ],
      "source": [
        "n_vertices, n_edges = map(int, input().split())\n",
        "graph = [[] for _ in range(n_vertices + 1)]\n",
        "# Store the graph as an adjacency list\n",
        "for _ in range(n_edges):\n",
        "    vertex_1, vertex_2, weight = map(int, input().split())\n",
        "    graph[vertex_1].append((vertex_2, weight))\n",
        "    graph[vertex_2].append((vertex_1, weight))"
      ]
    },
    {
      "cell_type": "code",
      "execution_count": 2,
      "id": "c32d2316",
      "metadata": {
        "id": "c32d2316"
      },
      "outputs": [],
      "source": [
        "def find_shortest_path(graph: list) -> int:\n",
        "    '''\n",
        "    Find the weight of the minimum Hamilton path of a graph starting from vertex 1.\n",
        "\n",
        "    Parameters:\n",
        "        graph: list\n",
        "            A graph in the form of an adjacency list\n",
        "\n",
        "    Return:\n",
        "        The required weight\n",
        "    '''\n",
        "    # Find the shortest edges adjacent to each vertices\n",
        "    min_edges = [0 for _ in range(n_vertices + 1)]\n",
        "    for vertex in range(1, n_vertices + 1):\n",
        "        min_edges[vertex] = min(map(lambda x: x[1], graph[vertex]))\n",
        "    # Find the total weight of the shortest edges adjacent to each vertices\n",
        "    min_edges_sum = sum(min_edges)\n",
        "    # Initialize the result as 'infinity' :D\n",
        "    min_total_weight = 12000000000 # As in the statement, all the possible total weights shall be less than this value\n",
        "\n",
        "    visited = [0 for _ in range(n_vertices + 1)]\n",
        "\n",
        "    def backtracking_helper(vertex: int, vertices_visited: int, current_sum: int, min_edges_sum: int):\n",
        "        '''\n",
        "        Helper function to do backtracking (DFS) on the graph\n",
        "\n",
        "        Parameters:\n",
        "            vertex: int\n",
        "                The current vertex\n",
        "            vertices_visited: int\n",
        "                The number of vertices visited in the current configuration\n",
        "            current_sum: int\n",
        "                The total weight of the visited vertices\n",
        "            min_edges_sum: int\n",
        "                The total weight of the edges adjacent to the remaining vertices\n",
        "\n",
        "        Return:\n",
        "            None\n",
        "        '''\n",
        "        nonlocal visited, min_total_weight\n",
        "        # Compare the lower bound with the current min total weight\n",
        "        if current_sum + min_edges_sum > min_total_weight:\n",
        "            return\n",
        "        # Normal backtracking here\n",
        "        if vertices_visited == n_vertices: # If a Hamilton path is found\n",
        "            if current_sum < min_total_weight:\n",
        "                min_total_weight = current_sum\n",
        "        visited[vertex] = 1\n",
        "        for adj_edge in graph[vertex]:\n",
        "            if not visited[adj_edge[0]]:\n",
        "                backtracking_helper(adj_edge[0], vertices_visited + 1, current_sum + adj_edge[1], min_edges_sum - min_edges[adj_edge[0]])\n",
        "        visited[vertex] = 0\n",
        "\n",
        "    # Call backtracking_helper to calculate the min total weight\n",
        "    backtracking_helper(1, 1, 0, min_edges_sum - min_edges[1])\n",
        "    return min_total_weight"
      ]
    },
    {
      "cell_type": "code",
      "execution_count": 3,
      "id": "85e59dd9",
      "metadata": {
        "colab": {
          "base_uri": "https://localhost:8080/"
        },
        "id": "85e59dd9",
        "outputId": "a821979e-ad79-477d-aaa1-d2089a587a7c"
      },
      "outputs": [
        {
          "output_type": "stream",
          "name": "stdout",
          "text": [
            "90\n"
          ]
        }
      ],
      "source": [
        "shortest_path_weight = find_shortest_path(graph)\n",
        "if shortest_path_weight == 12000000000: # If there are not any Hamilton paths starting from vertex 1\n",
        "    print(-1)\n",
        "else:\n",
        "    print(shortest_path_weight)"
      ]
    }
  ],
  "metadata": {
    "kernelspec": {
      "display_name": "Python 3 (ipykernel)",
      "language": "python",
      "name": "python3"
    },
    "language_info": {
      "codemirror_mode": {
        "name": "ipython",
        "version": 3
      },
      "file_extension": ".py",
      "mimetype": "text/x-python",
      "name": "python",
      "nbconvert_exporter": "python",
      "pygments_lexer": "ipython3",
      "version": "3.11.4"
    },
    "colab": {
      "provenance": [],
      "include_colab_link": true
    }
  },
  "nbformat": 4,
  "nbformat_minor": 5
}